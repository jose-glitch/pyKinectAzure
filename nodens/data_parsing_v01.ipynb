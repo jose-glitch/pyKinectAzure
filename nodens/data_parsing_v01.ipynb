{
 "cells": [
  {
   "cell_type": "code",
   "execution_count": 4,
   "id": "4eb622ac",
   "metadata": {},
   "outputs": [
    {
     "name": "stdout",
     "output_type": "stream",
     "text": [
      "[]\n"
     ]
    }
   ],
   "source": [
    "import os\n",
    "import csv\n",
    "import nodens_fns as ndns_fns\n",
    "from base64 import b64decode as b64decode\n",
    "import matplotlib.pyplot as plt\n",
    "from time import sleep as sleep\n",
    "\n",
    "folder = r\"C:\\Users\\Jose\\Queen Mary, University of London\\EPSRC-2022 - Documents\\Experiments\\radar_data\"\n",
    "#folder.replace(\"\\\",\"\\\\\")\n",
    "file_prefix = 'QMofficeSeries1'\n",
    "file_date = '202302031518'\n",
    "file_type = '.csv'\n",
    "\n",
    "file_0 = os.path.join(folder, file_prefix+file_date+file_type)\n",
    "file_full = os.path.join(folder, file_prefix+file_date+'_Full'+file_type)\n",
    "\n",
    "class ExperimentData0:\n",
    "    def __init__(self):\n",
    "        self.timestamp = []\n",
    "        self.sensor_id = []\n",
    "        self.X = []\n",
    "        self.Y = []\n",
    "        self.Z = []\n",
    "    def update(self,row_data):\n",
    "        self.timestamp.append(row_data[0])\n",
    "        self.sensor_id.append(row_data[1])\n",
    "        self.X.append(row_data[4])\n",
    "        self.Y.append(row_data[5])\n",
    "        self.Z.append(row_data[6])\n",
    "\n",
    "class ExperimentDataFull:\n",
    "    def __init__(self):\n",
    "        self.timestamp = []\n",
    "        self.sensor_id = []\n",
    "        self.frame_number = []\n",
    "        self.raw_data = []\n",
    "    def update(self,row_data):\n",
    "        self.timestamp.append(row_data[0])\n",
    "        self.sensor_id.append(row_data[1])\n",
    "        self.frame_number.append(row_data[2])\n",
    "        raw_data = b64decode(row_data[3])\n",
    "        int_data = []\n",
    "        for i in range(len(raw_data)):\n",
    "            int_data.append(raw_data[i])\n",
    "        self.raw_data.append(int_data)\n",
    "        \n",
    "\n",
    "#data = []\n",
    "data_0 = ExperimentData0()\n",
    "with open(file_0, newline='') as csvfile:\n",
    "    reader = csv.reader(csvfile, delimiter=',', quotechar='|')\n",
    "    for row in reader:\n",
    "        data_0.update(row)\n",
    "\n",
    "data_full = ExperimentDataFull()\n",
    "with open(file_full, newline='') as csvfile:\n",
    "    reader = csv.reader(csvfile, delimiter=',', quotechar='|')\n",
    "    for row in reader:\n",
    "        data_full.update(row)"
   ]
  },
  {
   "cell_type": "code",
   "execution_count": 6,
   "id": "a3b8206e",
   "metadata": {},
   "outputs": [
    {
     "data": {
      "image/png": "[encoded data removed]",
      "text/plain": [
       "<Figure size 640x480 with 1 Axes>"
      ]
     },
     "metadata": {},
     "output_type": "display_data"
    }
   ],
   "source": [
    "from IPython.display import display, clear_output\n",
    "\n",
    "#%matplotlib notebook\n",
    "fig, ax1 = plt.subplots()\n",
    "\n",
    "\n",
    "scatter1 = ax1.plot([], [])\n",
    "\n",
    "num_frames = len(data_full.raw_data)\n",
    "sd = ndns_fns.parseTLV(3)\n",
    "for i in range(num_frames):\n",
    "    sd.update(3, data_full.raw_data[i], 5)\n",
    "    ax1.cla()\n",
    "    ax1.scatter(sd.pc.X, sd.pc.Y, s=10, c='#FF0000')\n",
    "    ax1.scatter(sd.track.X, sd.track.Y, s=100, marker='x')\n",
    "    ax1.set_ylim(0, 6)\n",
    "    ax1.set_xlim(-3, 3)\n",
    "    \n",
    "    #fig.canvas.draw()\n",
    "    display(fig)\n",
    "    \n",
    "    clear_output(wait = True)\n",
    "    plt.pause(0.1)\n",
    "    "
   ]
  },
  {
   "cell_type": "code",
   "execution_count": 7,
   "id": "ebf7dd0d",
   "metadata": {},
   "outputs": [
    {
     "data": {
      "text/plain": [
       "{'_stale': True,\n",
       " 'stale_callback': <function matplotlib.figure._stale_figure_callback(self, val)>,\n",
       " '_axes': <AxesSubplot: >,\n",
       " 'figure': <Figure size 640x480 with 1 Axes>,\n",
       " '_transform': None,\n",
       " '_transformSet': False,\n",
       " '_visible': True,\n",
       " '_animated': False,\n",
       " '_alpha': None,\n",
       " 'clipbox': None,\n",
       " '_clippath': None,\n",
       " '_clipon': True,\n",
       " '_label': '',\n",
       " '_picker': None,\n",
       " '_rasterized': False,\n",
       " '_agg_filter': None,\n",
       " '_mouseover': False,\n",
       " '_callbacks': <matplotlib.cbook.CallbackRegistry at 0x206c9afb640>,\n",
       " '_remove_method': <bound method FigureBase.delaxes of <Figure size 640x480 with 1 Axes>>,\n",
       " '_url': None,\n",
       " '_gid': None,\n",
       " '_snap': None,\n",
       " '_sketch': None,\n",
       " '_path_effects': [],\n",
       " '_sticky_edges': _XYPair(x=[], y=[]),\n",
       " '_in_layout': True,\n",
       " '_position': Bbox([[0.125, 0.10999999999999999], [0.9, 0.88]]),\n",
       " '_originalPosition': Bbox([[0.125, 0.10999999999999999], [0.9, 0.88]]),\n",
       " '_aspect': 'auto',\n",
       " '_adjustable': 'box',\n",
       " '_anchor': 'C',\n",
       " '_stale_viewlims': {'x': False, 'y': False},\n",
       " '_sharex': None,\n",
       " '_sharey': None,\n",
       " 'bbox': <matplotlib.transforms.TransformedBbox at 0x206c9af8700>,\n",
       " 'dataLim': Bbox([[-3.344855546951294, 1.553096055984497], [0.144882932305336, 5.7087531089782715]]),\n",
       " '_viewLim': Bbox([[-3.0, 0.0], [3.0, 6.0]]),\n",
       " 'transScale': <matplotlib.transforms.TransformWrapper at 0x206c9af9f00>,\n",
       " 'transAxes': <matplotlib.transforms.BboxTransformTo at 0x206c9af9690>,\n",
       " 'transLimits': <matplotlib.transforms.BboxTransformFrom at 0x206c9afa800>,\n",
       " 'transData': <matplotlib.transforms.CompositeGenericTransform at 0x206c9afa140>,\n",
       " '_xaxis_transform': <matplotlib.transforms.BlendedGenericTransform at 0x206c9af9f90>,\n",
       " '_yaxis_transform': <matplotlib.transforms.BlendedGenericTransform at 0x206c9afb940>,\n",
       " '_box_aspect': None,\n",
       " '_axes_locator': None,\n",
       " '_colorbars': [],\n",
       " 'spines': <matplotlib.spines.Spines at 0x206cbe16530>,\n",
       " 'xaxis': <matplotlib.axis.XAxis at 0x206cbe149a0>,\n",
       " 'yaxis': <matplotlib.axis.YAxis at 0x206cbe14070>,\n",
       " '_facecolor': 'white',\n",
       " '_frameon': True,\n",
       " '_axisbelow': 'line',\n",
       " '_rasterization_zorder': None,\n",
       " 'ignore_existing_data_limits': False,\n",
       " 'callbacks': <matplotlib.cbook.CallbackRegistry at 0x206cbe17f40>,\n",
       " '_xmargin': 0.05,\n",
       " '_ymargin': 0.05,\n",
       " '_tight': None,\n",
       " '_use_sticky_edges': True,\n",
       " '_get_lines': <matplotlib.axes._base._process_plot_var_args at 0x206cbe17d00>,\n",
       " '_get_patches_for_fill': <matplotlib.axes._base._process_plot_var_args at 0x206cbe163e0>,\n",
       " '_gridOn': False,\n",
       " '_children': [<matplotlib.collections.PathCollection at 0x206cbb25810>,\n",
       "  <matplotlib.collections.PathCollection at 0x206cbb24070>],\n",
       " '_mouseover_set': <matplotlib.cbook._OrderedSet at 0x206cbe17ca0>,\n",
       " 'child_axes': [],\n",
       " '_current_image': None,\n",
       " '_projection_init': None,\n",
       " 'legend_': None,\n",
       " 'containers': [],\n",
       " '_autotitlepos': True,\n",
       " 'title': Text(0.5, 1.0, ''),\n",
       " '_left_title': Text(0.0, 1.0, ''),\n",
       " '_right_title': Text(1.0, 1.0, ''),\n",
       " 'titleOffsetTrans': <matplotlib.transforms.ScaledTranslation at 0x206cbbaf310>,\n",
       " 'patch': <matplotlib.patches.Rectangle at 0x206cbbac070>,\n",
       " 'axison': True,\n",
       " 'fmt_xdata': None,\n",
       " 'fmt_ydata': None,\n",
       " '_navigate': True,\n",
       " '_navigate_mode': None,\n",
       " '_subplotspec': GridSpec(1, 1)[0:1, 0:1]}"
      ]
     },
     "execution_count": 7,
     "metadata": {},
     "output_type": "execute_result"
    }
   ],
   "source": [
    "vars(ax1)"
   ]
  }
 ],
 "metadata": {
  "kernelspec": {
   "display_name": "Python 3",
   "language": "python",
   "name": "python3"
  },
  "language_info": {
   "codemirror_mode": {
    "name": "ipython",
    "version": 3
   },
   "file_extension": ".py",
   "mimetype": "text/x-python",
   "name": "python",
   "nbconvert_exporter": "python",
   "pygments_lexer": "ipython3",
   "version": "3.10.8"
  },
  "vscode": {
   "interpreter": {
    "hash": "4e7efc42d5e4bc2b67ee863baeb9286739d14e5f3fe7d38bc4a66907712e8135"
   }
  }
 },
 "nbformat": 4,
 "nbformat_minor": 5
}
